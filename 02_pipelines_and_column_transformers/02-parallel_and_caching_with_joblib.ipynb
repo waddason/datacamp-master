{
 "cells": [
  {
   "cell_type": "markdown",
   "metadata": {},
   "source": [
    "# More advanced concepts: Parallel computation and caching\n",
    "\n",
    "Authors: [Alexandre Gramfort](http://alexandre.gramfort.net), [Thomas Moreau](https://tommoral.github.io/about.html), and [Pedro L. C. Rodrigues](https://plcrodrigues.github.io/).\n",
    "\n",
    "The aim of this notebook is:\n",
    "\n",
    "  - to explain how parallel computation works within scikit-learn\n",
    "  - how to cache certain computations to save computation time.\n",
    "\n",
    "For this tutorial we will rely essentially on the [joblib package](https://joblib.readthedocs.io/)."
   ]
  },
  {
   "cell_type": "code",
   "execution_count": 1,
   "metadata": {},
   "outputs": [],
   "source": [
    "%matplotlib inline\n",
    "import numpy as np\n",
    "import pandas as pd\n",
    "import matplotlib.pyplot as plt\n",
    "import warnings\n",
    "\n",
    "warnings.simplefilter(action=\"ignore\", category=FutureWarning)\n",
    "warnings.simplefilter(action=\"ignore\", category=UserWarning)"
   ]
  },
  {
   "cell_type": "code",
   "execution_count": 2,
   "metadata": {},
   "outputs": [
    {
     "name": "stdout",
     "output_type": "stream",
     "text": [
      "Downloading Adult Census datasets from UCI\n"
     ]
    }
   ],
   "source": [
    "import os\n",
    "from urllib.request import urlretrieve\n",
    "\n",
    "url = (\n",
    "    \"https://archive.ics.uci.edu/ml/machine-learning-databases\"\n",
    "    \"/adult/adult.data\"\n",
    ")\n",
    "local_filename = os.path.basename(url)\n",
    "if not os.path.exists(local_filename):\n",
    "    print(\"Downloading Adult Census datasets from UCI\")\n",
    "    urlretrieve(url, local_filename)"
   ]
  },
  {
   "cell_type": "code",
   "execution_count": 3,
   "metadata": {},
   "outputs": [],
   "source": [
    "names = (\n",
    "    \"age, workclass, fnlwgt, education, education-num, \"\n",
    "    \"marital-status, occupation, relationship, race, sex, \"\n",
    "    \"capital-gain, capital-loss, hours-per-week, \"\n",
    "    \"native-country, income\"\n",
    ").split(\", \")\n",
    "data = pd.read_csv(local_filename, names=names)\n",
    "\n",
    "y = data[\"income\"]\n",
    "X_df = data.drop(\"income\", axis=1)"
   ]
  },
  {
   "cell_type": "code",
   "execution_count": 4,
   "metadata": {},
   "outputs": [
    {
     "data": {
      "text/html": [
       "<div>\n",
       "<style scoped>\n",
       "    .dataframe tbody tr th:only-of-type {\n",
       "        vertical-align: middle;\n",
       "    }\n",
       "\n",
       "    .dataframe tbody tr th {\n",
       "        vertical-align: top;\n",
       "    }\n",
       "\n",
       "    .dataframe thead th {\n",
       "        text-align: right;\n",
       "    }\n",
       "</style>\n",
       "<table border=\"1\" class=\"dataframe\">\n",
       "  <thead>\n",
       "    <tr style=\"text-align: right;\">\n",
       "      <th></th>\n",
       "      <th>age</th>\n",
       "      <th>workclass</th>\n",
       "      <th>fnlwgt</th>\n",
       "      <th>education</th>\n",
       "      <th>education-num</th>\n",
       "      <th>marital-status</th>\n",
       "      <th>occupation</th>\n",
       "      <th>relationship</th>\n",
       "      <th>race</th>\n",
       "      <th>sex</th>\n",
       "      <th>capital-gain</th>\n",
       "      <th>capital-loss</th>\n",
       "      <th>hours-per-week</th>\n",
       "      <th>native-country</th>\n",
       "    </tr>\n",
       "  </thead>\n",
       "  <tbody>\n",
       "    <tr>\n",
       "      <th>0</th>\n",
       "      <td>39</td>\n",
       "      <td>State-gov</td>\n",
       "      <td>77516</td>\n",
       "      <td>Bachelors</td>\n",
       "      <td>13</td>\n",
       "      <td>Never-married</td>\n",
       "      <td>Adm-clerical</td>\n",
       "      <td>Not-in-family</td>\n",
       "      <td>White</td>\n",
       "      <td>Male</td>\n",
       "      <td>2174</td>\n",
       "      <td>0</td>\n",
       "      <td>40</td>\n",
       "      <td>United-States</td>\n",
       "    </tr>\n",
       "    <tr>\n",
       "      <th>1</th>\n",
       "      <td>50</td>\n",
       "      <td>Self-emp-not-inc</td>\n",
       "      <td>83311</td>\n",
       "      <td>Bachelors</td>\n",
       "      <td>13</td>\n",
       "      <td>Married-civ-spouse</td>\n",
       "      <td>Exec-managerial</td>\n",
       "      <td>Husband</td>\n",
       "      <td>White</td>\n",
       "      <td>Male</td>\n",
       "      <td>0</td>\n",
       "      <td>0</td>\n",
       "      <td>13</td>\n",
       "      <td>United-States</td>\n",
       "    </tr>\n",
       "    <tr>\n",
       "      <th>2</th>\n",
       "      <td>38</td>\n",
       "      <td>Private</td>\n",
       "      <td>215646</td>\n",
       "      <td>HS-grad</td>\n",
       "      <td>9</td>\n",
       "      <td>Divorced</td>\n",
       "      <td>Handlers-cleaners</td>\n",
       "      <td>Not-in-family</td>\n",
       "      <td>White</td>\n",
       "      <td>Male</td>\n",
       "      <td>0</td>\n",
       "      <td>0</td>\n",
       "      <td>40</td>\n",
       "      <td>United-States</td>\n",
       "    </tr>\n",
       "    <tr>\n",
       "      <th>3</th>\n",
       "      <td>53</td>\n",
       "      <td>Private</td>\n",
       "      <td>234721</td>\n",
       "      <td>11th</td>\n",
       "      <td>7</td>\n",
       "      <td>Married-civ-spouse</td>\n",
       "      <td>Handlers-cleaners</td>\n",
       "      <td>Husband</td>\n",
       "      <td>Black</td>\n",
       "      <td>Male</td>\n",
       "      <td>0</td>\n",
       "      <td>0</td>\n",
       "      <td>40</td>\n",
       "      <td>United-States</td>\n",
       "    </tr>\n",
       "    <tr>\n",
       "      <th>4</th>\n",
       "      <td>28</td>\n",
       "      <td>Private</td>\n",
       "      <td>338409</td>\n",
       "      <td>Bachelors</td>\n",
       "      <td>13</td>\n",
       "      <td>Married-civ-spouse</td>\n",
       "      <td>Prof-specialty</td>\n",
       "      <td>Wife</td>\n",
       "      <td>Black</td>\n",
       "      <td>Female</td>\n",
       "      <td>0</td>\n",
       "      <td>0</td>\n",
       "      <td>40</td>\n",
       "      <td>Cuba</td>\n",
       "    </tr>\n",
       "  </tbody>\n",
       "</table>\n",
       "</div>"
      ],
      "text/plain": [
       "   age          workclass  fnlwgt   education  education-num  \\\n",
       "0   39          State-gov   77516   Bachelors             13   \n",
       "1   50   Self-emp-not-inc   83311   Bachelors             13   \n",
       "2   38            Private  215646     HS-grad              9   \n",
       "3   53            Private  234721        11th              7   \n",
       "4   28            Private  338409   Bachelors             13   \n",
       "\n",
       "        marital-status          occupation    relationship    race      sex  \\\n",
       "0        Never-married        Adm-clerical   Not-in-family   White     Male   \n",
       "1   Married-civ-spouse     Exec-managerial         Husband   White     Male   \n",
       "2             Divorced   Handlers-cleaners   Not-in-family   White     Male   \n",
       "3   Married-civ-spouse   Handlers-cleaners         Husband   Black     Male   \n",
       "4   Married-civ-spouse      Prof-specialty            Wife   Black   Female   \n",
       "\n",
       "   capital-gain  capital-loss  hours-per-week  native-country  \n",
       "0          2174             0              40   United-States  \n",
       "1             0             0              13   United-States  \n",
       "2             0             0              40   United-States  \n",
       "3             0             0              40   United-States  \n",
       "4             0             0              40            Cuba  "
      ]
     },
     "execution_count": 4,
     "metadata": {},
     "output_type": "execute_result"
    }
   ],
   "source": [
    "X_df.head()"
   ]
  },
  {
   "cell_type": "code",
   "execution_count": 5,
   "metadata": {},
   "outputs": [
    {
     "data": {
      "text/plain": [
       "income\n",
       "<=50K    24720\n",
       ">50K      7841\n",
       "Name: count, dtype: int64"
      ]
     },
     "execution_count": 5,
     "metadata": {},
     "output_type": "execute_result"
    }
   ],
   "source": [
    "y.value_counts()"
   ]
  },
  {
   "cell_type": "markdown",
   "metadata": {},
   "source": [
    "## Let's construct a full model with a ColumnTransformer"
   ]
  },
  {
   "cell_type": "code",
   "execution_count": 6,
   "metadata": {},
   "outputs": [
    {
     "name": "stdout",
     "output_type": "stream",
     "text": [
      "CV score: 0.905280194469601\n"
     ]
    }
   ],
   "source": [
    "from sklearn.compose import make_column_transformer\n",
    "from sklearn.pipeline import make_pipeline\n",
    "from sklearn.preprocessing import OneHotEncoder\n",
    "from sklearn.preprocessing import StandardScaler, QuantileTransformer\n",
    "from sklearn.ensemble import RandomForestClassifier\n",
    "from sklearn.model_selection import cross_val_score\n",
    "\n",
    "numeric_features = [c for c in X_df if X_df[c].dtype.kind in (\"i\", \"f\")]\n",
    "categorical_features = [c for c in X_df if X_df[c].dtype.kind not in (\"i\", \"f\")]\n",
    "\n",
    "pipeline = make_pipeline(\n",
    "    make_column_transformer(\n",
    "        (\n",
    "            OneHotEncoder(handle_unknown=\"ignore\", sparse_output=False),\n",
    "            categorical_features,\n",
    "        ),\n",
    "        (StandardScaler(), numeric_features),\n",
    "    ),\n",
    "    RandomForestClassifier(max_depth=7, n_estimators=300),\n",
    ")\n",
    "\n",
    "cv_scores = cross_val_score(pipeline, X_df, y, scoring=\"roc_auc\", cv=5)\n",
    "print(\"CV score:\", np.mean(cv_scores))"
   ]
  },
  {
   "cell_type": "markdown",
   "metadata": {},
   "source": [
    "### How to run things in parallel in scikit-learn: The `n_jobs` parameter"
   ]
  },
  {
   "cell_type": "code",
   "execution_count": 7,
   "metadata": {},
   "outputs": [
    {
     "name": "stdout",
     "output_type": "stream",
     "text": [
      "22.8 s ± 720 ms per loop (mean ± std. dev. of 2 runs, 1 loop each)\n"
     ]
    }
   ],
   "source": [
    "%timeit -n1 -r2 cross_val_score(pipeline, X_df, y, scoring='roc_auc', cv=5)"
   ]
  },
  {
   "cell_type": "code",
   "execution_count": 8,
   "metadata": {},
   "outputs": [
    {
     "name": "stdout",
     "output_type": "stream",
     "text": [
      "12.4 s ± 3.63 s per loop (mean ± std. dev. of 2 runs, 1 loop each)\n"
     ]
    }
   ],
   "source": [
    "%timeit -n1 -r2 cross_val_score(pipeline, X_df, y, scoring='roc_auc', cv=5, n_jobs=-1)"
   ]
  },
  {
   "cell_type": "code",
   "execution_count": 9,
   "metadata": {},
   "outputs": [
    {
     "name": "stdout",
     "output_type": "stream",
     "text": [
      "6.97 s ± 83 ms per loop (mean ± std. dev. of 2 runs, 1 loop each)\n"
     ]
    }
   ],
   "source": [
    "%%timeit -n1 -r2\n",
    "\n",
    "pipeline[-1].set_params(n_jobs=-1)\n",
    "cv_scores = cross_val_score(\n",
    "    pipeline, X_df, y, scoring=\"roc_auc\", cv=5, n_jobs=1\n",
    ")"
   ]
  },
  {
   "cell_type": "markdown",
   "metadata": {},
   "source": [
    "### How to write your own parallel code with joblib\n",
    "\n",
    "Let's first look at a simple example:"
   ]
  },
  {
   "cell_type": "code",
   "execution_count": 10,
   "metadata": {},
   "outputs": [
    {
     "data": {
      "text/plain": [
       "(<function math.sqrt(x, /)>, (2,), {'x': 1})"
      ]
     },
     "execution_count": 10,
     "metadata": {},
     "output_type": "execute_result"
    }
   ],
   "source": [
    "from joblib import Parallel, delayed\n",
    "from math import sqrt\n",
    "\n",
    "delayed(sqrt)(2, x=1)"
   ]
  },
  {
   "cell_type": "code",
   "execution_count": 11,
   "metadata": {},
   "outputs": [
    {
     "name": "stdout",
     "output_type": "stream",
     "text": [
      "Main process in  83837\n",
      "working on 85042\n",
      "working on 85043\n",
      "working on 85042\n",
      "working on 85042\n",
      "working on 85042\n"
     ]
    },
    {
     "data": {
      "text/plain": [
       "[0, 2, 4, 6, 8]"
      ]
     },
     "execution_count": 11,
     "metadata": {},
     "output_type": "execute_result"
    }
   ],
   "source": [
    "import os\n",
    "\n",
    "\n",
    "def f(x):\n",
    "    print(\"working on\", os.getpid())\n",
    "    return 2 * x\n",
    "\n",
    "\n",
    "print(\"Main process in \", os.getpid())\n",
    "Parallel(n_jobs=2)(delayed(f)(i) for i in range(5))\n",
    "# [0.0, 1.0, 2.0, 3.0, 4.0, 5.0, 6.0, 7.0, 8.0, 9.0]"
   ]
  },
  {
   "cell_type": "markdown",
   "metadata": {},
   "source": [
    "Let's now do a full cross-validation in parallel:"
   ]
  },
  {
   "cell_type": "code",
   "execution_count": 12,
   "metadata": {},
   "outputs": [],
   "source": [
    "from sklearn.base import clone\n",
    "\n",
    "\n",
    "def _fit_score(model, X, y, train_idx, test_idx):\n",
    "    X_train = X.iloc[train_idx]\n",
    "    X_test = X.iloc[test_idx]\n",
    "    y_train = y.iloc[train_idx]\n",
    "    y_test = y.iloc[test_idx]\n",
    "    model = clone(model)\n",
    "    model.fit(X_train, y_train)\n",
    "    return model.score(X_test, y_test)"
   ]
  },
  {
   "cell_type": "code",
   "execution_count": 13,
   "metadata": {},
   "outputs": [
    {
     "name": "stdout",
     "output_type": "stream",
     "text": [
      "[0.8441578381698143, 0.8478194103194103, 0.8504299754299754, 0.8502764127764127, 0.8499692874692875]\n"
     ]
    }
   ],
   "source": [
    "from sklearn.model_selection import StratifiedKFold\n",
    "\n",
    "n_jobs = 1\n",
    "\n",
    "cv = StratifiedKFold(n_splits=5)\n",
    "# Parallel arg: return_as=\"generator\"\n",
    "scores = Parallel(n_jobs=n_jobs)(\n",
    "    delayed(_fit_score)(pipeline, X_df, y, train_idx, test_idx)\n",
    "    for train_idx, test_idx in cv.split(X_df, y)\n",
    ")\n",
    "\n",
    "print(scores)"
   ]
  },
  {
   "cell_type": "markdown",
   "metadata": {},
   "source": [
    "### How about caching?\n",
    "\n",
    "Something you want to avoid redoing again and again the same computations.\n",
    "One classical solution to address this is called function [memoization](https://en.wikipedia.org/wiki/Memoization).\n",
    "\n",
    "joblib offers a very trivial way to do using a simple Python decorator."
   ]
  },
  {
   "cell_type": "code",
   "execution_count": 14,
   "metadata": {},
   "outputs": [
    {
     "name": "stderr",
     "output_type": "stream",
     "text": [
      "[Memory(location=./joblib)]: Flushing completely the cache\n"
     ]
    },
    {
     "name": "stdout",
     "output_type": "stream",
     "text": [
      "[0.8435436818670352, 0.8493550368550369, 0.8504299754299754, 0.8521191646191646, 0.851044226044226]\n",
      "10.2 s ± 0 ns per loop (mean ± std. dev. of 1 run, 1 loop each)\n"
     ]
    }
   ],
   "source": [
    "from joblib import Memory\n",
    "\n",
    "location = \".\"\n",
    "mem = Memory(location, verbose=0)\n",
    "mem.clear()  # make sure there is not left over cache from previous run\n",
    "\n",
    "_fit_score_cached = mem.cache(_fit_score)\n",
    "\n",
    "\n",
    "def evaluate_model():\n",
    "    scores = Parallel(n_jobs=n_jobs)(\n",
    "        delayed(_fit_score_cached)(pipeline, X_df, y, train_idx, test_idx)\n",
    "        for train_idx, test_idx in cv.split(X_df, y)\n",
    "    )\n",
    "    print(scores)\n",
    "\n",
    "\n",
    "%timeit -n1 -r1 evaluate_model()"
   ]
  },
  {
   "cell_type": "code",
   "execution_count": 15,
   "metadata": {},
   "outputs": [
    {
     "name": "stdout",
     "output_type": "stream",
     "text": [
      "[0.8435436818670352, 0.8493550368550369, 0.8504299754299754, 0.8521191646191646, 0.851044226044226]\n",
      "2.14 s ± 0 ns per loop (mean ± std. dev. of 1 run, 1 loop each)\n"
     ]
    }
   ],
   "source": [
    "%timeit -n1 -r1 evaluate_model()"
   ]
  },
  {
   "cell_type": "markdown",
   "metadata": {},
   "source": [
    "Certain transformer objects in scikit-learn have a memory parameter. This allows to cache their computation for example to avoid rerunning the same preprocessing in a grid-search when tuning the classifier or regressor at the end of the pipeline.\n",
    "\n",
    "To go further you can also look how joblib can be used in combination with [dask-distributed](http://distributed.dask.org/en/stable/) to run computations across different machines or with [dask-jobqueue](http://jobqueue.dask.org/en/latest/) to use a cluster with a queuing system like `slurm`."
   ]
  },
  {
   "cell_type": "code",
   "execution_count": 16,
   "metadata": {},
   "outputs": [
    {
     "name": "stdout",
     "output_type": "stream",
     "text": [
      "\u001b[0;31mInit signature:\u001b[0m \u001b[0mPipeline\u001b[0m\u001b[0;34m(\u001b[0m\u001b[0msteps\u001b[0m\u001b[0;34m,\u001b[0m \u001b[0;34m*\u001b[0m\u001b[0;34m,\u001b[0m \u001b[0mtransform_input\u001b[0m\u001b[0;34m=\u001b[0m\u001b[0;32mNone\u001b[0m\u001b[0;34m,\u001b[0m \u001b[0mmemory\u001b[0m\u001b[0;34m=\u001b[0m\u001b[0;32mNone\u001b[0m\u001b[0;34m,\u001b[0m \u001b[0mverbose\u001b[0m\u001b[0;34m=\u001b[0m\u001b[0;32mFalse\u001b[0m\u001b[0;34m)\u001b[0m\u001b[0;34m\u001b[0m\u001b[0;34m\u001b[0m\u001b[0m\n",
      "\u001b[0;31mDocstring:\u001b[0m     \n",
      "A sequence of data transformers with an optional final predictor.\n",
      "\n",
      "`Pipeline` allows you to sequentially apply a list of transformers to\n",
      "preprocess the data and, if desired, conclude the sequence with a final\n",
      ":term:`predictor` for predictive modeling.\n",
      "\n",
      "Intermediate steps of the pipeline must be transformers, that is, they\n",
      "must implement `fit` and `transform` methods.\n",
      "The final :term:`estimator` only needs to implement `fit`.\n",
      "The transformers in the pipeline can be cached using ``memory`` argument.\n",
      "\n",
      "The purpose of the pipeline is to assemble several steps that can be\n",
      "cross-validated together while setting different parameters. For this, it\n",
      "enables setting parameters of the various steps using their names and the\n",
      "parameter name separated by a `'__'`, as in the example below. A step's\n",
      "estimator may be replaced entirely by setting the parameter with its name\n",
      "to another estimator, or a transformer removed by setting it to\n",
      "`'passthrough'` or `None`.\n",
      "\n",
      "For an example use case of `Pipeline` combined with\n",
      ":class:`~sklearn.model_selection.GridSearchCV`, refer to\n",
      ":ref:`sphx_glr_auto_examples_compose_plot_compare_reduction.py`. The\n",
      "example :ref:`sphx_glr_auto_examples_compose_plot_digits_pipe.py` shows how\n",
      "to grid search on a pipeline using `'__'` as a separator in the parameter names.\n",
      "\n",
      "Read more in the :ref:`User Guide <pipeline>`.\n",
      "\n",
      ".. versionadded:: 0.5\n",
      "\n",
      "Parameters\n",
      "----------\n",
      "steps : list of tuples\n",
      "    List of (name of step, estimator) tuples that are to be chained in\n",
      "    sequential order. To be compatible with the scikit-learn API, all steps\n",
      "    must define `fit`. All non-last steps must also define `transform`. See\n",
      "    :ref:`Combining Estimators <combining_estimators>` for more details.\n",
      "\n",
      "transform_input : list of str, default=None\n",
      "    The names of the :term:`metadata` parameters that should be transformed by the\n",
      "    pipeline before passing it to the step consuming it.\n",
      "\n",
      "    This enables transforming some input arguments to ``fit`` (other than ``X``)\n",
      "    to be transformed by the steps of the pipeline up to the step which requires\n",
      "    them. Requirement is defined via :ref:`metadata routing <metadata_routing>`.\n",
      "    For instance, this can be used to pass a validation set through the pipeline.\n",
      "\n",
      "    You can only set this if metadata routing is enabled, which you\n",
      "    can enable using ``sklearn.set_config(enable_metadata_routing=True)``.\n",
      "\n",
      "    .. versionadded:: 1.6\n",
      "\n",
      "memory : str or object with the joblib.Memory interface, default=None\n",
      "    Used to cache the fitted transformers of the pipeline. The last step\n",
      "    will never be cached, even if it is a transformer. By default, no\n",
      "    caching is performed. If a string is given, it is the path to the\n",
      "    caching directory. Enabling caching triggers a clone of the transformers\n",
      "    before fitting. Therefore, the transformer instance given to the\n",
      "    pipeline cannot be inspected directly. Use the attribute ``named_steps``\n",
      "    or ``steps`` to inspect estimators within the pipeline. Caching the\n",
      "    transformers is advantageous when fitting is time consuming.\n",
      "\n",
      "verbose : bool, default=False\n",
      "    If True, the time elapsed while fitting each step will be printed as it\n",
      "    is completed.\n",
      "\n",
      "Attributes\n",
      "----------\n",
      "named_steps : :class:`~sklearn.utils.Bunch`\n",
      "    Dictionary-like object, with the following attributes.\n",
      "    Read-only attribute to access any step parameter by user given name.\n",
      "    Keys are step names and values are steps parameters.\n",
      "\n",
      "classes_ : ndarray of shape (n_classes,)\n",
      "    The classes labels. Only exist if the last step of the pipeline is a\n",
      "    classifier.\n",
      "\n",
      "n_features_in_ : int\n",
      "    Number of features seen during :term:`fit`. Only defined if the\n",
      "    underlying first estimator in `steps` exposes such an attribute\n",
      "    when fit.\n",
      "\n",
      "    .. versionadded:: 0.24\n",
      "\n",
      "feature_names_in_ : ndarray of shape (`n_features_in_`,)\n",
      "    Names of features seen during :term:`fit`. Only defined if the\n",
      "    underlying estimator exposes such an attribute when fit.\n",
      "\n",
      "    .. versionadded:: 1.0\n",
      "\n",
      "See Also\n",
      "--------\n",
      "make_pipeline : Convenience function for simplified pipeline construction.\n",
      "\n",
      "Examples\n",
      "--------\n",
      ">>> from sklearn.svm import SVC\n",
      ">>> from sklearn.preprocessing import StandardScaler\n",
      ">>> from sklearn.datasets import make_classification\n",
      ">>> from sklearn.model_selection import train_test_split\n",
      ">>> from sklearn.pipeline import Pipeline\n",
      ">>> X, y = make_classification(random_state=0)\n",
      ">>> X_train, X_test, y_train, y_test = train_test_split(X, y,\n",
      "...                                                     random_state=0)\n",
      ">>> pipe = Pipeline([('scaler', StandardScaler()), ('svc', SVC())])\n",
      ">>> # The pipeline can be used as any other estimator\n",
      ">>> # and avoids leaking the test set into the train set\n",
      ">>> pipe.fit(X_train, y_train).score(X_test, y_test)\n",
      "0.88\n",
      ">>> # An estimator's parameter can be set using '__' syntax\n",
      ">>> pipe.set_params(svc__C=10).fit(X_train, y_train).score(X_test, y_test)\n",
      "0.76\n",
      "\u001b[0;31mFile:\u001b[0m           ~/anaconda3/envs/DataCamp/lib/python3.11/site-packages/sklearn/pipeline.py\n",
      "\u001b[0;31mType:\u001b[0m           ABCMeta\n",
      "\u001b[0;31mSubclasses:\u001b[0m     "
     ]
    }
   ],
   "source": [
    "from sklearn.pipeline import Pipeline\n",
    "\n",
    "Pipeline?"
   ]
  }
 ],
 "metadata": {
  "kernelspec": {
   "display_name": "DataCamp",
   "language": "python",
   "name": "python3"
  },
  "language_info": {
   "codemirror_mode": {
    "name": "ipython",
    "version": 3
   },
   "file_extension": ".py",
   "mimetype": "text/x-python",
   "name": "python",
   "nbconvert_exporter": "python",
   "pygments_lexer": "ipython3",
   "version": "3.11.11"
  }
 },
 "nbformat": 4,
 "nbformat_minor": 4
}
